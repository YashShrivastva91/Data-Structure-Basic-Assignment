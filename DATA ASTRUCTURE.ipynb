{
 "cells": [
  {
   "cell_type": "markdown",
   "id": "1db434c9-d42a-4d64-b185-6ba6ac1d7d7b",
   "metadata": {},
   "source": [
    "# ONLY EXAMPLES ARE HERE THEORY PART IS IN ATTACHED PDF"
   ]
  },
  {
   "cell_type": "code",
   "execution_count": 2,
   "id": "18721a7f-b820-4eb5-9a67-97f194abc2b4",
   "metadata": {},
   "outputs": [
    {
     "name": "stdout",
     "output_type": "stream",
     "text": [
      "Hello\n",
      "World\n",
      "Hlo ol!\n",
      "!dlroW ,olleH\n",
      "World!\n",
      "Hello\n"
     ]
    }
   ],
   "source": [
    "# Q1. Discuss string slicing and provide examples.\n",
    "'''Ans- String slicing in Python allows you to extract specific parts of a string using indexing and the slicing syntax. \n",
    " Start:stop:step.'''\n",
    "\n",
    "text = \"Hello, World!\"\n",
    "\n",
    "# Extract \"Hello\"\n",
    "slice1 = text[0:5]\n",
    "print(slice1)  \n",
    "\n",
    "# Extract \"World\" (without the comma and space)\n",
    "slice2 = text[7:12]\n",
    "print(slice2) \n",
    "\n",
    "# Extract every second character\n",
    "slice3 = text[::2]\n",
    "print(slice3)  \n",
    "\n",
    "# Reverse the string\n",
    "slice4 = text[::-1]\n",
    "print(slice4)  \n",
    "\n",
    "# Extract from index 7 to the end\n",
    "slice5 = text[7:]\n",
    "print(slice5)  \n",
    "\n",
    "# Extract from the beginning to index 5\n",
    "slice6 = text[:5]\n",
    "print(slice6)  \n",
    "\n"
   ]
  },
  {
   "cell_type": "code",
   "execution_count": 12,
   "id": "f81985c0-ae24-45fb-aafb-f6eacf670ece",
   "metadata": {},
   "outputs": [
    {
     "name": "stdout",
     "output_type": "stream",
     "text": [
      "[1, 20, 3, 4]\n",
      "[1, 3]\n",
      "20\n",
      "[20, 30]\n",
      "3\n"
     ]
    }
   ],
   "source": [
    "# Q2. Explain the key features of lists in Python.\n",
    "'''Ans- list -- it is an ordered collection of elements that can be anything. List is mutable, have dynamic size, heterogeneous elements, \n",
    "indexing and slicing and nested lists.\n",
    "\n",
    "Ordered – list maintain the order of element.'''\n",
    "my_list = [1, 2, 3] \n",
    "# retains the order [1, 2, 3].\n",
    "\n",
    "# mutable -- list can be changed after creation \n",
    "my_list = [1, 2, 3]\n",
    "my_list[1] = 20  \n",
    "my_list.append(4)  \n",
    "print(my_list)\n",
    "\n",
    "#Dynamic Size -- lists can grow or shrink in size as needed.\n",
    "my_list = [1, 2]\n",
    "my_list.append(3)  # List now is [1, 2, 3]\n",
    "my_list.remove(2)  # List now is [1, 3]\n",
    "print(my_list)\n",
    "\n",
    "#Heterogeneous Elements:- Lists can contain elements of different data types, including other lists.\n",
    "mixed_list = [1, \"hello\", 3.14, [5, 6]]\n",
    "\n",
    "#Indexing and Slicing\n",
    "my_list = [10, 20, 30, 40]\n",
    "print(my_list[1])  # Output: 20\n",
    "print(my_list[1:3])  # Output: [20, 30]\n",
    "\n",
    "#Nested Lists - Lists can contain other lists as elements.\n",
    "nested_list = [[1, 2], [3, 4], [5, 6]]\n",
    "print(nested_list[1][0])  # Output: 3"
   ]
  },
  {
   "cell_type": "code",
   "execution_count": 13,
   "id": "a2a35618-cec1-44bc-a53c-d1f26ae256ef",
   "metadata": {},
   "outputs": [
    {
     "name": "stdout",
     "output_type": "stream",
     "text": [
      "20\n",
      "[20, 30]\n",
      "[10, 25, 30]\n",
      "[10, 15, 25, 30, 40]\n",
      "[10, 30]\n",
      "[10, 30, 20]\n"
     ]
    }
   ],
   "source": [
    "# Q3. Describe how to access, modify,  and delete elements in a list with eamples\n",
    "#Accessing Elements\n",
    "#By Index: Use the index to retrieve an element.\n",
    "my_list = [10, 20, 30]\n",
    "print(my_list[1])  # Output: 20\n",
    "\n",
    "#Using Slicing: Retrieve a subset of the list.\n",
    "print(my_list[1:3])  # Output: [20, 30]\n",
    "\n",
    "#Modifying Elements\n",
    "# By Index: Change the value at a specific index.\n",
    "my_list = [10, 20, 30]\n",
    "my_list[1] = 25\n",
    "print(my_list)  # Output: [10, 25, 30]\n",
    "\n",
    "#Using Methods: Add or modify elements using methods.\n",
    "my_list.append(40)  # Adds 40 to the end\n",
    "my_list.insert(1, 15)  # Inserts 15 at index 1\n",
    "print(my_list)  # Output: [10, 15, 25, 30, 40]\n",
    "\n",
    "#  Deleting Elements\n",
    "#By Index: Use del to remove an element by index.\n",
    "my_list = [10, 20, 30]\n",
    "del my_list[1]\n",
    "print(my_list)  # Output: [10, 30]\n",
    "\n",
    "#By Value: Use remove() to delete the first occurrence of a value.\n",
    "my_list = [10, 20, 30, 20]\n",
    "my_list.remove(20)\n",
    "print(my_list)  # Output: [10, 30, 20]"
   ]
  },
  {
   "cell_type": "code",
   "execution_count": 15,
   "id": "0c028e4d-e035-4ba1-be9d-3291c3f8bfe7",
   "metadata": {},
   "outputs": [
    {
     "name": "stdout",
     "output_type": "stream",
     "text": [
      "[1, 20, 3]\n",
      "[1, 3, 4]\n",
      "2\n",
      "1\n"
     ]
    }
   ],
   "source": [
    "#Q4. Compare and contrast tuples and lists with eaamples.\n",
    "## ans --  ##''' list : mutable >> it can be change, Syntax: create using square bracket[], \n",
    " ##Methods: Have methods like append(), remove(), extend(), and pop().\n",
    " ##Use Cases\n",
    "##Lists: Suitable when you need a collection that can be modified. For example, managing items in a shopping cart.\n",
    "##example :'''\n",
    "    # mutable\n",
    "my_list = [1, 2, 3]\n",
    "my_list[1] = 20\n",
    "print(my_list)  # Output: [1, 20, 3]\n",
    "\n",
    "#syntax\n",
    "my_list = [1, 2, 3]\n",
    "\n",
    "#Methods\n",
    "my_list = [1, 2, 3]\n",
    "my_list.append(4)\n",
    "my_list.remove(2)\n",
    "print(my_list)  # Output: [1, 3, 4]\n",
    "\n",
    "##'''Tuples : Immutable >> meaning once created, their contents cannot be changed., syntax: Created using parentheses ().,\n",
    "##methods : Have fewer methods, mainly count() and index().'''\n",
    "#imutable - \n",
    "my_tuple = (1, 2, 3)\n",
    "# my_tuple[1] = 20  # This will raise a TypeError\n",
    "\n",
    "#syntax\n",
    "my_tuple = (1, 2, 3)\n",
    "\n",
    "#methods\n",
    "my_tuple = (1, 2, 3, 1)\n",
    "print(my_tuple.count(1))  # Output: 2\n",
    "print(my_tuple.index(2))  # Output: 1"
   ]
  },
  {
   "cell_type": "code",
   "execution_count": 3,
   "id": "f4a42e81-b210-46c6-803a-b64750537a57",
   "metadata": {},
   "outputs": [],
   "source": [
    "# Q5. Describe the key features of sets and provide examples of their use.\n",
    "#ANS - DEFINITION - A set is a collection of distinct objects, considered as an object in its own right.\n",
    "#      The objects in a set are called elements or members of the set.\n",
    "# 1. Distinct Elements: Each element in a set is unique; no duplicates are allowed.\n",
    "# 2. Unordered: The order of elements in a set does not matter.\n",
    "# 3. Notation: Sets are denoted by curly braces{}\n",
    "## EXAMPLES: \n",
    "a = {1, 2, 3}\n",
    "b = {2, 3, 4}\n",
    "union = a.union(b)      # {1, 2, 3, 4}\n",
    "intersection = a.intersection(b)  # {2, 3}\n",
    "difference = a.difference(b)      # {1}"
   ]
  },
  {
   "cell_type": "code",
   "execution_count": 20,
   "id": "84f0f37c-0a5a-4d4f-bd16-f939b4ef00d4",
   "metadata": {},
   "outputs": [
    {
     "name": "stdout",
     "output_type": "stream",
     "text": [
      "[1, 2, 2, 3, 4, 4, 5]\n"
     ]
    }
   ],
   "source": [
    "# Q6. Discuss the use cases of tuples and sets on Python programming.\n",
    "# Tuples : Definition: Tuples are immutable, ordered collections of items. Once created, their elements cannot be changed.\n",
    "\n",
    "#1.  immutable : means assume there are thousand people and you have to get only one person info so use tuple.\n",
    "# Function Returns: Functions that need to return multiple values use tuples. For instance\n",
    "# uses of Tuples:\n",
    "def get_person_info():\n",
    "    return (\"YASH\", 20, \"STUDENT\")\n",
    "#2. Structuring Data:\n",
    "point = (10, 20)\n",
    "x, y = point  # Unpacking\n",
    "\n",
    "# Sets : Definition: Sets are unordered collections of unique items. They do not allow duplicate elements.\n",
    "# uses of sets :\n",
    "#Uniqueness: it wil only give unique values.\n",
    "numbers = [1, 2, 2, 3, 4, 4, 5]\n",
    "unique_numbers = set(numbers)\n",
    "print(numbers)\n",
    "\n",
    "#Mathematical Set Operations:Perform operations like union, intersection, and difference easily.\n",
    "set_a = {1, 2, 3}\n",
    "set_b = {3, 4, 5}\n",
    "union = set_a | set_b            # output  {1, 2, 3, 4, 5}       \n",
    "intersection = set_a & set_b     # output  {1, 2, 3, 4, 5}\n",
    "difference = set_a - set_b       # output  {1, 2}\n"
   ]
  },
  {
   "cell_type": "code",
   "execution_count": 14,
   "id": "f753175e-5b8c-4a2b-8697-f55e889f54ad",
   "metadata": {},
   "outputs": [
    {
     "name": "stdout",
     "output_type": "stream",
     "text": [
      "{'name': 'Yash', 'age': 20, 'city': 'Lucknow'}\n",
      "{'name': 'Yash', 'age': 21, 'city': 'Lucknow'}\n",
      "{'name': 'Yash', 'age': 21}\n"
     ]
    }
   ],
   "source": [
    "# Q7. Describe how to add, modify and delete items in a dictionary with examples.\n",
    "# ans - Dictionaries are mutable, unordered collections of key-value pairs.\n",
    "# How to add - \n",
    "# Creating a dictionary\n",
    "my_dict = {'name': 'Yash', 'age': 20}\n",
    "\n",
    "# Adding a new key-value pair\n",
    "my_dict['city'] = 'Lucknow'\n",
    "\n",
    "print(my_dict)\n",
    "# Output: {'name': 'Yash', 'age': 20, 'city': 'Lucknow'}\n",
    "\n",
    "# Modify\n",
    "# Existing dictionary\n",
    "my_dict = {'name': 'Yash', 'age': 20, 'city': 'Lucknow'}\n",
    "\n",
    "# Modifying the value for the key 'age'\n",
    "my_dict['age'] = 21\n",
    "\n",
    "print(my_dict)\n",
    "# Output: {'name': 'Yash', 'age': 20, 'city': 'Lucknow'}\n",
    "\n",
    "# Delete\n",
    "# Existing dictionary\n",
    "my_dict = {'name': 'Yash', 'age': 21, 'city': 'Lucknow'}\n",
    "\n",
    "# Deleting the key-value pair for 'city'\n",
    "del my_dict['city']\n",
    "\n",
    "print(my_dict)\n",
    "# Output: {'name': 'Yash', 'age': 21}"
   ]
  },
  {
   "cell_type": "code",
   "execution_count": 19,
   "id": "02a357b5-b2c3-42cc-b640-032756ef6084",
   "metadata": {},
   "outputs": [
    {
     "name": "stdout",
     "output_type": "stream",
     "text": [
      "YASH\n",
      "1\n",
      "unhashable type: 'list'\n",
      "unhashable type: 'dict'\n"
     ]
    }
   ],
   "source": [
    "# Q.8  Discuss the importance of dictionary keys being immutable and provide examples.\n",
    "#ANS :-\n",
    "#  Importace of dictionary : dictionary keys must be immutable because dictionaries rely on keys being hashable for efficient data retrieval.\n",
    "# Importance of Immutable Dictionary Keys\n",
    "# i)   Hash function : The hash function generates a unique hash value for each key, which is used to quickly locate the key-value pair.\n",
    "# ii)  Unchanging Keys: Immutable keys guarantee that once a key is added to the dictionary, it cannot be altered in a way that would affect its hash value.\n",
    "# iii) Efficency : The efficiency depends on the hash values being consistent.\n",
    "\n",
    "# EXAMPLES :-\n",
    "# 1.  IMMUTABLE KEYS \n",
    "# Strings: Strings are immutable, so they can be used as dictionary keys.\n",
    "my_dict = {'name': 'YASH', 'age': 20}\n",
    "print(my_dict['name'])  # Output: YASH\n",
    "# Tuples: Tuples can be used as dictionary keys if they contain only immutable elements.\n",
    "my_dict = {('John', 'Doe'): 1, ('Jane', 'Smith'): 2}\n",
    "print(my_dict[('John', 'Doe')])  # Output: 1\n",
    "\n",
    "# 2. Mutable Keys:\n",
    "# Lists: Lists are mutable and cannot be used as dictionary keys because their hash value can change.\n",
    "my_dict = {}\n",
    "try:\n",
    "    my_dict[[1, 2, 3]] = 'value'  # This will raise a TypeError\n",
    "except TypeError as e:\n",
    "    print(e)  # Output: unhashable type: 'list'\n",
    "    \n",
    "# Dictionaries: Dictionaries are also mutable and thus cannot be used as keys.\n",
    "my_dict = {}\n",
    "try:\n",
    "    my_dict[{'key': 'value'}] = 'another_value'  # This will raise a TypeError\n",
    "except TypeError as e:\n",
    "    print(e)  # Output: unhashable type: 'dict'\n"
   ]
  },
  {
   "cell_type": "code",
   "execution_count": null,
   "id": "8f9cd150-a46c-480b-84ba-90494ec146b3",
   "metadata": {},
   "outputs": [],
   "source": []
  }
 ],
 "metadata": {
  "kernelspec": {
   "display_name": "Python 3 (ipykernel)",
   "language": "python",
   "name": "python3"
  },
  "language_info": {
   "codemirror_mode": {
    "name": "ipython",
    "version": 3
   },
   "file_extension": ".py",
   "mimetype": "text/x-python",
   "name": "python",
   "nbconvert_exporter": "python",
   "pygments_lexer": "ipython3",
   "version": "3.10.8"
  }
 },
 "nbformat": 4,
 "nbformat_minor": 5
}
